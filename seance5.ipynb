{
  "nbformat": 4,
  "nbformat_minor": 0,
  "metadata": {
    "kernelspec": {
      "display_name": "Python 3",
      "language": "python",
      "name": "python3"
    },
    "language_info": {
      "codemirror_mode": {
        "name": "ipython",
        "version": 3
      },
      "file_extension": ".py",
      "mimetype": "text/x-python",
      "name": "python",
      "nbconvert_exporter": "python",
      "pygments_lexer": "ipython3",
      "version": "3.7.6"
    },
    "colab": {
      "name": "Copie de Copie de seance5.ipynb",
      "provenance": [],
      "collapsed_sections": []
    }
  },
  "cells": [
    {
      "cell_type": "code",
      "metadata": {
        "id": "x_1sxHKCEDJz"
      },
      "source": [
        "import numpy as np"
      ],
      "execution_count": 1,
      "outputs": []
    },
    {
      "cell_type": "markdown",
      "metadata": {
        "id": "WDMDWuyLZR54"
      },
      "source": [
        "Ex1:\n",
        "    \n",
        "1. Ecrire une fonction qui prend en entrée une fonction f et des réels a et h et donne en sortie le taux de variation (ou d'accroissement) de la fonction f entre le point d'abscisse a+h et a.\n",
        "2. Tester avec f(x)=3x^3+1x^2-5"
      ]
    },
    {
      "cell_type": "code",
      "metadata": {
        "id": "d9h_NWzAZR55",
        "outputId": "23a9bd4c-b7b5-4584-a7c3-15c3113b2c9c",
        "colab": {
          "base_uri": "https://localhost:8080/"
        }
      },
      "source": [
        "def tauxdevar(fn, a, h):\n",
        "    return (fn(a+h)-fn(a))/h \n",
        "\n",
        "def fn(x):\n",
        "    return 3*x**3+1*x**2-5\n",
        "print(tauxdevar(fn, 10, 3))"
      ],
      "execution_count": 58,
      "outputs": [
        {
          "output_type": "stream",
          "text": [
            "1220.0\n"
          ],
          "name": "stdout"
        }
      ]
    },
    {
      "cell_type": "markdown",
      "metadata": {
        "id": "88WDVVevZR58"
      },
      "source": [
        "Ex2:\n",
        "1. Ecrire une fonction qui calcule la liste des coefficients directeurs pour une fonction f définit sur I=[a;b] avec un pas \"p\"\n",
        "2. Tester avec f(x)=(1+x)/(x-4) définit sur I=[0,1] avec un pas de 0.01"
      ]
    },
    {
      "cell_type": "code",
      "metadata": {
        "id": "JuLxUQnkZR58",
        "outputId": "a98716d9-5bc2-489f-99ec-f189d2695b51",
        "colab": {
          "base_uri": "https://localhost:8080/"
        }
      },
      "source": [
        "def coefd(fn, a, b,p):\n",
        "    coef = []\n",
        "    for i in np.arange(a,b,p):\n",
        "        cD=(fn(i+p)-fn(i))/p\n",
        "        coef.append(cD)\n",
        "    return coef\n",
        "\n",
        "def fn(x):\n",
        "    return (1+x)/(x-4)\n",
        "\n",
        "coefd(fn, 0, 1, 0.01)"
      ],
      "execution_count": 7,
      "outputs": [
        {
          "output_type": "execute_result",
          "data": {
            "text/plain": [
              "[-0.3132832080200487,\n",
              " -0.31485749549753916,\n",
              " -0.31644367935395046,\n",
              " -0.31804187975472686,\n",
              " -0.31965221838639035,\n",
              " -0.32127481847973316,\n",
              " -0.3229098048333101,\n",
              " -0.3245573038375693,\n",
              " -0.3262174434991383,\n",
              " -0.327890353465804,\n",
              " -0.32957616505173704,\n",
              " -0.33127501126335446,\n",
              " -0.33298702682542647,\n",
              " -0.3347123482079606,\n",
              " -0.33645111365318003,\n",
              " -0.3382034632034625,\n",
              " -0.3399695387293289,\n",
              " -0.3417494839582813,\n",
              " -0.3435434445039909,\n",
              " -0.3453515678961183,\n",
              " -0.3471740036106119,\n",
              " -0.34901090310061056,\n",
              " -0.35086241982794086,\n",
              " -0.35272870929510813,\n",
              " -0.35460992907800915,\n",
              " -0.35650623885917776,\n",
              " -0.35841780046164673,\n",
              " -0.3603447778834812,\n",
              " -0.3622873373329838,\n",
              " -0.36424564726451614,\n",
              " -0.3662198784150028,\n",
              " -0.36821020384116276,\n",
              " -0.3702167989574734,\n",
              " -0.372239841574723,\n",
              " -0.37427951193951814,\n",
              " -0.37633599277434593,\n",
              " -0.3784094693185691,\n",
              " -0.3805001293700372,\n",
              " -0.38260816332778,\n",
              " -0.38473376423514005,\n",
              " -0.38687712782421446,\n",
              " -0.3890384525606416,\n",
              " -0.3912179396898474,\n",
              " -0.39341579328360243,\n",
              " -0.3956322202880225,\n",
              " -0.3978674305721297,\n",
              " -0.40012163697764613,\n",
              " -0.4023950553695588,\n",
              " -0.40468790468790594,\n",
              " -0.40700040700040185,\n",
              " -0.40933278755628244,\n",
              " -0.41168527484109485,\n",
              " -0.41405810063268045,\n",
              " -0.41645150005830134,\n",
              " -0.4188657116528438,\n",
              " -0.4213009774182708,\n",
              " -0.4237575428842677,\n",
              " -0.426235657170132,\n",
              " -0.42873557304795584,\n",
              " -0.43125754700708563,\n",
              " -0.4338018393197862,\n",
              " -0.43636871410868694,\n",
              " -0.4389584394149437,\n",
              " -0.44157128726862727,\n",
              " -0.4442075337597662,\n",
              " -0.4468674591116384,\n",
              " -0.449551347754934,\n",
              " -0.45225948840407204,\n",
              " -0.45499217413459414,\n",
              " -0.4577497024627064,\n",
              " -0.4605323754259816,\n",
              " -0.463340499666387,\n",
              " -0.46617438651451737,\n",
              " -0.4690343520759477,\n",
              " -0.47192071731948504,\n",
              " -0.47483380816714105,\n",
              " -0.477773955586136,\n",
              " -0.4807414956829459,\n",
              " -0.48373676979934777,\n",
              " -0.4867601246105857,\n",
              " -0.48981191222571274,\n",
              " -0.49289249029002,\n",
              " -0.4960022220899529,\n",
              " -0.49914147666013653,\n",
              " -0.5023106288929213,\n",
              " -0.5055100596501827,\n",
              " -0.5087401558779958,\n",
              " -0.5120013107233423,\n",
              " -0.5152939236540588,\n",
              " -0.5186184005808392,\n",
              " -0.52197515398269,\n",
              " -0.525364603034495,\n",
              " -0.528787173738321,\n",
              " -0.532243299056856,\n",
              " -0.5357334190506879,\n",
              " -0.5392579810181153,\n",
              " -0.5428174396386987,\n",
              " -0.5464122571197549,\n",
              " -0.5500429033464593,\n",
              " -0.5537098560354337]"
            ]
          },
          "metadata": {
            "tags": []
          },
          "execution_count": 7
        }
      ]
    },
    {
      "cell_type": "markdown",
      "metadata": {
        "id": "taDe_6-lZR5-"
      },
      "source": [
        "Ex3:\n",
        "on considère une suite U définie par Un+1=Un+n+1 et de premier terme U0. Ecrire une fonction qui prend en entrée les valeurs de n et U0 et affiche la valeur de Un.\n",
        "1. De facon iterative\n",
        "2. Par recurence"
      ]
    },
    {
      "cell_type": "code",
      "metadata": {
        "id": "tDiJ3fbCZR5_",
        "outputId": "ab468e6d-9e6f-43a7-8f7c-c1629789c8f7",
        "colab": {
          "base_uri": "https://localhost:8080/"
        }
      },
      "source": [
        "# facon iterative\n",
        "\n",
        "def suite(U0,n):\n",
        "\n",
        "    uN = U0 + n + 1\n",
        "    #premier terme\n",
        "\n",
        "    #les termes de U1 à Un\n",
        "    for i in range(n-1):\n",
        "        uN = uN + n + 1\n",
        "    return uN\n",
        "\n",
        "print(suite(5, 3))\n",
        "\n",
        "# par recurrence\n",
        "\n",
        "def rec(UN, stop, start = 0):\n",
        "    if (start==stop):\n",
        "      return UN\n",
        "    else :\n",
        "      return start+1 + rec(UN+start+1, stop, start+1)\n",
        "\n",
        "print(rec(5,3))\n",
        "\n"
      ],
      "execution_count": 49,
      "outputs": [
        {
          "output_type": "stream",
          "text": [
            "17\n",
            "17\n"
          ],
          "name": "stdout"
        }
      ]
    },
    {
      "cell_type": "markdown",
      "metadata": {
        "id": "A3AEgI7AZR6B"
      },
      "source": [
        "Ex4:\n",
        "On pose Tn=n^2−(n−1)^2 ainsi que Sn=T1+T2+T3+...+Tn.\n",
        "1. Etant donné n, afficher la valeur de Sn."
      ]
    },
    {
      "cell_type": "code",
      "metadata": {
        "id": "XfrKSoOsZR6B",
        "outputId": "b23bcd07-4a81-4236-86f7-80e2ff92bb05",
        "colab": {
          "base_uri": "https://localhost:8080/"
        }
      },
      "source": [
        "def T(n):\n",
        "  return n**2-(n-1)**2\n",
        "def S(n):\n",
        "  uN = T(1)\n",
        "  for i in range(n-1):\n",
        "      uN = uN + T(i)\n",
        "  return uN\n",
        "\n",
        "print(S(1))"
      ],
      "execution_count": 46,
      "outputs": [
        {
          "output_type": "stream",
          "text": [
            "1\n"
          ],
          "name": "stdout"
        }
      ]
    },
    {
      "cell_type": "markdown",
      "metadata": {
        "id": "_KVKjnXaZR6E"
      },
      "source": [
        "Ex5:\n",
        "Soit la suite définie par Un+1=0.5*Un et de premier terme U0. Plus la valeur de n augmente, plus les valeurs de Un se rapprochent de 0.\n",
        "\n",
        "Ecrire une fonction qui permet de déterminer pour un réel positif e donné, quel est le plus petit entier n tel que la valeur de Un soit inférieure à e.\n"
      ]
    },
    {
      "cell_type": "code",
      "metadata": {
        "id": "cZag6ay0ZR6F",
        "outputId": "665867b0-9526-438e-a360-bfabf7cccc7c",
        "colab": {
          "base_uri": "https://localhost:8080/"
        }
      },
      "source": [
        "def check(e, U0):\n",
        "  U=U0*0.5\n",
        "  n=1\n",
        "  while U > e :\n",
        "    U=U*0.5\n",
        "    n=n+1\n",
        "  return n\n",
        "\n",
        "print(check(10,2))\n"
      ],
      "execution_count": 47,
      "outputs": [
        {
          "output_type": "stream",
          "text": [
            "1\n"
          ],
          "name": "stdout"
        }
      ]
    },
    {
      "cell_type": "markdown",
      "metadata": {
        "id": "7mPBa7qdZR6I"
      },
      "source": [
        "Ex6: Constante K de Catalan : https://fr.wikipedia.org/wiki/Constante_de_Catalan\n",
        "Ecrire une fonction qui permet de retourner une valeur approchée de la constante K et en s’arrêtant dès que la valeur absolue de la différence entre deux somme successives devienne inférieure ou égale à une erreur epsilon donnée en paramètre.\n",
        "\n"
      ]
    },
    {
      "cell_type": "code",
      "metadata": {
        "id": "Ha5EN6sZZR6I"
      },
      "source": [
        "def catal():\n",
        "  return 0"
      ],
      "execution_count": 51,
      "outputs": []
    },
    {
      "cell_type": "markdown",
      "metadata": {
        "id": "OlEpO9VRZR6L"
      },
      "source": [
        "Ex 7:\n",
        "Ecrivez une fonction permettant de calculer la limite à epsilon près de la suite définie par la relation de récurrence :\n",
        "\n",
        "U0 =2\n",
        "Un+1= Un + 2/Un  , n>0.\n",
        "\n",
        "On arrête d’itérer quand l’intervalle entre 2 termes consécutifs devient strictement inférieur à epsilon."
      ]
    },
    {
      "cell_type": "code",
      "metadata": {
        "id": "t1OgyR4ibcqm"
      },
      "source": [
        ""
      ],
      "execution_count": null,
      "outputs": []
    }
  ]
}